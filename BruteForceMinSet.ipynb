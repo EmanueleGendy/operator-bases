{
  "nbformat": 4,
  "nbformat_minor": 0,
  "metadata": {
    "colab": {
      "provenance": [],
      "authorship_tag": "ABX9TyOC2hwH070k+0bI//lW/s+F",
      "include_colab_link": true
    },
    "kernelspec": {
      "name": "python3",
      "display_name": "Python 3"
    },
    "language_info": {
      "name": "python"
    }
  },
  "cells": [
    {
      "cell_type": "markdown",
      "metadata": {
        "id": "view-in-github",
        "colab_type": "text"
      },
      "source": [
        "<a href=\"https://colab.research.google.com/github/EmanueleGendy/operator-bases/blob/branch1/BruteForceMinSet.ipynb\" target=\"_parent\"><img src=\"https://colab.research.google.com/assets/colab-badge.svg\" alt=\"Open In Colab\"/></a>"
      ]
    },
    {
      "cell_type": "code",
      "metadata": {
        "id": "HRCJlSMzlPav"
      },
      "source": [
        "import numpy as np\n",
        "import random as rd\n",
        "import sympy as sym\n",
        "from scipy.linalg import null_space"
      ],
      "execution_count": null,
      "outputs": []
    },
    {
      "cell_type": "code",
      "metadata": {
        "id": "y-WznnBtjo9n",
        "colab": {
          "base_uri": "https://localhost:8080/",
          "height": 91
        },
        "outputId": "cfd2e8e4-d912-4b55-ac81-afd7feea2f92"
      },
      "source": [
        "def invlist(mat1,mat2):\n",
        "  l = [[mat1,np.identity(3)],[mat2,np.identity(3)],[mat1,mat1],[mat1,mat2],[mat2,mat2],[mat1,mat1,mat1],[mat1,mat1,mat2],[mat1,mat2,mat2],[mat2,mat2,mat2],[mat1,mat1,mat2,mat2]];\n",
        "  vec=[]\n",
        "  for i in l:\n",
        "    vec.append(np.trace(np.linalg.multi_dot(i)))\n",
        "  return vec\n",
        "\n",
        "def invlistm(mat1,mat2,c):\n",
        "  l=[[c,np.identity(3)],[c,mat1],[c,mat2],[c,mat1,mat1],[c,mat2,mat2],[c,mat1,mat2],[c,mat2,mat1],[c,mat1,mat2,mat2],[c,mat2,mat2,mat1],[c,mat2,mat1,mat1],[c,mat1,mat1,mat2],[c,mat1,mat1,mat2,mat2],[c,mat2,mat2,mat1,mat1],[c,mat1,mat2,mat1,mat1],[c,mat2,mat1,mat2,mat2],[c,mat1,mat1,mat2,mat1],[c,mat2,mat2,mat1,mat2],[c,mat1,mat2,mat2,mat1,mat1],[c,mat1,mat1,mat2,mat2,mat1],[c,mat2,mat1,mat1,mat2,mat2],[c,mat2,mat2,mat1,mat1,mat2],[c,mat1,mat2,mat1,mat1,mat2,mat2],[c,mat1,mat2,mat2,mat1,mat1,mat2],[c,mat2,mat1,mat2,mat2,mat1,mat1],[c,mat2,mat1,mat1,mat2,mat2,mat1],[c,mat1,mat1,mat2,mat1,mat2,mat2],[c,mat1,mat1,mat2,mat2,mat1,mat2],[c,mat2,mat2,mat1,mat2,mat1,mat1],[c,mat2,mat2,mat1,mat1,mat2,mat1]]\n",
        "  vec=[]\n",
        "  for i in l:\n",
        "    vec.append(np.trace(np.linalg.multi_dot(i)))\n",
        "  return vec\n",
        "\n",
        "'''def recu(degree,ll,pr,namelist):\n",
        "  for i in range(len(expvec)):\n",
        "    if degree-expvec[i]==0:\n",
        "      degree=degree-expvec[i]\n",
        "      ll=np.append(ll,expvec[i])\n",
        "      namelist.append(listvec[i])\n",
        "      pr*=randinvlist[i]\n",
        "      if list(np.sort(ll)) not in totlist:\n",
        "        totlist.append(list(np.sort(ll)))\n",
        "        prodlist.append(pr)\n",
        "        listot.append(namelist)\n",
        "    elif degree - expvec[i]>0:\n",
        "      recu(degree - expvec[i],np.append(ll,expvec[i]),pr*randinvlist[i],namelist+[listvec[i]])'''"
      ],
      "execution_count": null,
      "outputs": [
        {
          "output_type": "execute_result",
          "data": {
            "application/vnd.google.colaboratory.intrinsic+json": {
              "type": "string"
            },
            "text/plain": [
              "'def recu(degree,ll,pr,namelist):\\n  for i in range(len(expvec)):\\n    if degree-expvec[i]==0:\\n      degree=degree-expvec[i]\\n      ll=np.append(ll,expvec[i])\\n      namelist.append(listvec[i])\\n      pr*=randinvlist[i]\\n      if list(np.sort(ll)) not in totlist:\\n        totlist.append(list(np.sort(ll)))\\n        prodlist.append(pr)\\n        listot.append(namelist)\\n    elif degree - expvec[i]>0:\\n      recu(degree - expvec[i],np.append(ll,expvec[i]),pr*randinvlist[i],namelist+[listvec[i]])'"
            ]
          },
          "metadata": {},
          "execution_count": 4
        }
      ]
    },
    {
      "cell_type": "code",
      "metadata": {
        "id": "fOb5BumUW-EZ"
      },
      "source": [
        "x = sym.symbols('x', real=True)"
      ],
      "execution_count": null,
      "outputs": []
    },
    {
      "cell_type": "code",
      "metadata": {
        "id": "Z7wlXv5fasPw"
      },
      "source": [
        "#This is the main part: a recursive function that given a degree returns all invariants built with Yukawas up to that degree, together with their 'names'\n",
        "def recu(degree,ll,pr,name,totlist,prlist,namelist):\n",
        "  for i in range(len(expvec)):\n",
        "    if degree-expvec[i]<0:\n",
        "#      pr*=randinvlist[i]\n",
        "#      ll+=[[expvec[i],listvec[i]]]\n",
        "      ll.sort(key=lambda x: x[1])\n",
        "      if (ll not in totlist) and degree==0 :\n",
        "        prlist.append(pr)\n",
        "        namelist.append(name)\n",
        "        totlist.append(ll)\n",
        "    elif degree - expvec[i]>=0:\n",
        "      recu(degree - expvec[i],ll+[[expvec[i],listvec[i]]],pr*randinvlist[i],name+[listvec[i]],totlist,prlist,namelist)\n",
        "    if i==len(expvec)-1:\n",
        "      return [prlist,namelist]"
      ],
      "execution_count": null,
      "outputs": []
    },
    {
      "cell_type": "code",
      "metadata": {
        "id": "dGVZ4TEGbBAE"
      },
      "source": [
        "expvec=[1,1,2,2,2,3,3,3,3,4]\n",
        "expvecm=[1,2,2,3,3,3,3,4,4,4,4,5,5,5,5,5,5,6,6,6,6,7,7,7,7,7,7,7,7]\n",
        "listvec=[\"a1\",\"b1\",\"a2\",\"b2\",\"c2\",\"a3\",\"b3\",\"c3\",\"d3\",\"a4\"]\n",
        "listvecm=['I'+str(i) for i in range(len(expvecm))]"
      ],
      "execution_count": null,
      "outputs": []
    },
    {
      "cell_type": "code",
      "metadata": {
        "colab": {
          "base_uri": "https://localhost:8080/"
        },
        "id": "oBMHAyxTfL-F",
        "outputId": "05df7815-ab54-48ad-f7da-1f71d7768890"
      },
      "source": [
        "degg=7\n",
        "\n",
        "m1=np.random.randint(10, size=(3, 3))\n",
        "m2=np.random.randint(10, size=(3, 3))\n",
        "c=np.random.randint(10, size=(3, 3))\n",
        "randinvlist=invlist(m1,m2)\n",
        "randinvlistm=invlistm(m1,m2,c)\n",
        "systname=[]\n",
        "for i in range(len(listvecm)):\n",
        "  if degg-expvecm[i] >= 0:\n",
        "    systname+=[[listvecm[i]]+j for j in recu(degg-expvecm[i],[],1,[],[],[],[])[1]]\n",
        "\n",
        "\n",
        "mat=[]\n",
        "for k in range(len(systname)):\n",
        "  m1=np.random.randint(1000, size=(3, 3))\n",
        "  m2=np.random.randint(1000, size=(3, 3))\n",
        "  c=np.random.randint(1000, size=(3, 3))\n",
        "  randinvlist=invlist(m1,m2)\n",
        "  randinvlistm=invlistm(m1,m2,c)\n",
        "  syst=[]\n",
        "  for i in range(len(randinvlistm)):\n",
        "    if degg-expvecm[i] >= 0:\n",
        "      syst+=[randinvlistm[i]*j for j in recu(degg-expvecm[i],[],1,[],[],[],[])[0]]\n",
        "  mat.append(syst)\n",
        "\n",
        "\n",
        "print(systname)\n",
        "print(len(systname))"
      ],
      "execution_count": null,
      "outputs": [
        {
          "output_type": "stream",
          "name": "stderr",
          "text": [
            "/usr/local/lib/python3.7/dist-packages/ipykernel_launcher.py:13: RuntimeWarning: overflow encountered in long_scalars\n",
            "  del sys.path[0]\n",
            "/usr/local/lib/python3.7/dist-packages/ipykernel_launcher.py:24: RuntimeWarning: overflow encountered in long_scalars\n"
          ]
        },
        {
          "output_type": "stream",
          "name": "stdout",
          "text": [
            "[['I0', 'a1', 'a1', 'a1', 'a1', 'a1', 'a1'], ['I0', 'a1', 'a1', 'a1', 'a1', 'a1', 'b1'], ['I0', 'a1', 'a1', 'a1', 'a1', 'b1', 'b1'], ['I0', 'a1', 'a1', 'a1', 'a1', 'a2'], ['I0', 'a1', 'a1', 'a1', 'a1', 'b2'], ['I0', 'a1', 'a1', 'a1', 'a1', 'c2'], ['I0', 'a1', 'a1', 'a1', 'b1', 'b1', 'b1'], ['I0', 'a1', 'a1', 'a1', 'b1', 'a2'], ['I0', 'a1', 'a1', 'a1', 'b1', 'b2'], ['I0', 'a1', 'a1', 'a1', 'b1', 'c2'], ['I0', 'a1', 'a1', 'a1', 'a3'], ['I0', 'a1', 'a1', 'a1', 'b3'], ['I0', 'a1', 'a1', 'a1', 'c3'], ['I0', 'a1', 'a1', 'a1', 'd3'], ['I0', 'a1', 'a1', 'b1', 'b1', 'b1', 'b1'], ['I0', 'a1', 'a1', 'b1', 'b1', 'a2'], ['I0', 'a1', 'a1', 'b1', 'b1', 'b2'], ['I0', 'a1', 'a1', 'b1', 'b1', 'c2'], ['I0', 'a1', 'a1', 'b1', 'a3'], ['I0', 'a1', 'a1', 'b1', 'b3'], ['I0', 'a1', 'a1', 'b1', 'c3'], ['I0', 'a1', 'a1', 'b1', 'd3'], ['I0', 'a1', 'a1', 'a2', 'a2'], ['I0', 'a1', 'a1', 'a2', 'b2'], ['I0', 'a1', 'a1', 'a2', 'c2'], ['I0', 'a1', 'a1', 'b2', 'b2'], ['I0', 'a1', 'a1', 'b2', 'c2'], ['I0', 'a1', 'a1', 'c2', 'c2'], ['I0', 'a1', 'a1', 'a4'], ['I0', 'a1', 'b1', 'b1', 'b1', 'b1', 'b1'], ['I0', 'a1', 'b1', 'b1', 'b1', 'a2'], ['I0', 'a1', 'b1', 'b1', 'b1', 'b2'], ['I0', 'a1', 'b1', 'b1', 'b1', 'c2'], ['I0', 'a1', 'b1', 'b1', 'a3'], ['I0', 'a1', 'b1', 'b1', 'b3'], ['I0', 'a1', 'b1', 'b1', 'c3'], ['I0', 'a1', 'b1', 'b1', 'd3'], ['I0', 'a1', 'b1', 'a2', 'a2'], ['I0', 'a1', 'b1', 'a2', 'b2'], ['I0', 'a1', 'b1', 'a2', 'c2'], ['I0', 'a1', 'b1', 'b2', 'b2'], ['I0', 'a1', 'b1', 'b2', 'c2'], ['I0', 'a1', 'b1', 'c2', 'c2'], ['I0', 'a1', 'b1', 'a4'], ['I0', 'a1', 'a2', 'a3'], ['I0', 'a1', 'a2', 'b3'], ['I0', 'a1', 'a2', 'c3'], ['I0', 'a1', 'a2', 'd3'], ['I0', 'a1', 'b2', 'a3'], ['I0', 'a1', 'b2', 'b3'], ['I0', 'a1', 'b2', 'c3'], ['I0', 'a1', 'b2', 'd3'], ['I0', 'a1', 'c2', 'a3'], ['I0', 'a1', 'c2', 'b3'], ['I0', 'a1', 'c2', 'c3'], ['I0', 'a1', 'c2', 'd3'], ['I0', 'b1', 'b1', 'b1', 'b1', 'b1', 'b1'], ['I0', 'b1', 'b1', 'b1', 'b1', 'a2'], ['I0', 'b1', 'b1', 'b1', 'b1', 'b2'], ['I0', 'b1', 'b1', 'b1', 'b1', 'c2'], ['I0', 'b1', 'b1', 'b1', 'a3'], ['I0', 'b1', 'b1', 'b1', 'b3'], ['I0', 'b1', 'b1', 'b1', 'c3'], ['I0', 'b1', 'b1', 'b1', 'd3'], ['I0', 'b1', 'b1', 'a2', 'a2'], ['I0', 'b1', 'b1', 'a2', 'b2'], ['I0', 'b1', 'b1', 'a2', 'c2'], ['I0', 'b1', 'b1', 'b2', 'b2'], ['I0', 'b1', 'b1', 'b2', 'c2'], ['I0', 'b1', 'b1', 'c2', 'c2'], ['I0', 'b1', 'b1', 'a4'], ['I0', 'b1', 'a2', 'a3'], ['I0', 'b1', 'a2', 'b3'], ['I0', 'b1', 'a2', 'c3'], ['I0', 'b1', 'a2', 'd3'], ['I0', 'b1', 'b2', 'a3'], ['I0', 'b1', 'b2', 'b3'], ['I0', 'b1', 'b2', 'c3'], ['I0', 'b1', 'b2', 'd3'], ['I0', 'b1', 'c2', 'a3'], ['I0', 'b1', 'c2', 'b3'], ['I0', 'b1', 'c2', 'c3'], ['I0', 'b1', 'c2', 'd3'], ['I0', 'a2', 'a2', 'a2'], ['I0', 'a2', 'a2', 'b2'], ['I0', 'a2', 'a2', 'c2'], ['I0', 'a2', 'b2', 'b2'], ['I0', 'a2', 'b2', 'c2'], ['I0', 'a2', 'c2', 'c2'], ['I0', 'a2', 'a4'], ['I0', 'b2', 'b2', 'b2'], ['I0', 'b2', 'b2', 'c2'], ['I0', 'b2', 'c2', 'c2'], ['I0', 'b2', 'a4'], ['I0', 'c2', 'c2', 'c2'], ['I0', 'c2', 'a4'], ['I0', 'a3', 'a3'], ['I0', 'a3', 'b3'], ['I0', 'a3', 'c3'], ['I0', 'a3', 'd3'], ['I0', 'b3', 'b3'], ['I0', 'b3', 'c3'], ['I0', 'b3', 'd3'], ['I0', 'c3', 'c3'], ['I0', 'c3', 'd3'], ['I0', 'd3', 'd3'], ['I1', 'a1', 'a1', 'a1', 'a1', 'a1'], ['I1', 'a1', 'a1', 'a1', 'a1', 'b1'], ['I1', 'a1', 'a1', 'a1', 'b1', 'b1'], ['I1', 'a1', 'a1', 'a1', 'a2'], ['I1', 'a1', 'a1', 'a1', 'b2'], ['I1', 'a1', 'a1', 'a1', 'c2'], ['I1', 'a1', 'a1', 'b1', 'b1', 'b1'], ['I1', 'a1', 'a1', 'b1', 'a2'], ['I1', 'a1', 'a1', 'b1', 'b2'], ['I1', 'a1', 'a1', 'b1', 'c2'], ['I1', 'a1', 'a1', 'a3'], ['I1', 'a1', 'a1', 'b3'], ['I1', 'a1', 'a1', 'c3'], ['I1', 'a1', 'a1', 'd3'], ['I1', 'a1', 'b1', 'b1', 'b1', 'b1'], ['I1', 'a1', 'b1', 'b1', 'a2'], ['I1', 'a1', 'b1', 'b1', 'b2'], ['I1', 'a1', 'b1', 'b1', 'c2'], ['I1', 'a1', 'b1', 'a3'], ['I1', 'a1', 'b1', 'b3'], ['I1', 'a1', 'b1', 'c3'], ['I1', 'a1', 'b1', 'd3'], ['I1', 'a1', 'a2', 'a2'], ['I1', 'a1', 'a2', 'b2'], ['I1', 'a1', 'a2', 'c2'], ['I1', 'a1', 'b2', 'b2'], ['I1', 'a1', 'b2', 'c2'], ['I1', 'a1', 'c2', 'c2'], ['I1', 'a1', 'a4'], ['I1', 'b1', 'b1', 'b1', 'b1', 'b1'], ['I1', 'b1', 'b1', 'b1', 'a2'], ['I1', 'b1', 'b1', 'b1', 'b2'], ['I1', 'b1', 'b1', 'b1', 'c2'], ['I1', 'b1', 'b1', 'a3'], ['I1', 'b1', 'b1', 'b3'], ['I1', 'b1', 'b1', 'c3'], ['I1', 'b1', 'b1', 'd3'], ['I1', 'b1', 'a2', 'a2'], ['I1', 'b1', 'a2', 'b2'], ['I1', 'b1', 'a2', 'c2'], ['I1', 'b1', 'b2', 'b2'], ['I1', 'b1', 'b2', 'c2'], ['I1', 'b1', 'c2', 'c2'], ['I1', 'b1', 'a4'], ['I1', 'a2', 'a3'], ['I1', 'a2', 'b3'], ['I1', 'a2', 'c3'], ['I1', 'a2', 'd3'], ['I1', 'b2', 'a3'], ['I1', 'b2', 'b3'], ['I1', 'b2', 'c3'], ['I1', 'b2', 'd3'], ['I1', 'c2', 'a3'], ['I1', 'c2', 'b3'], ['I1', 'c2', 'c3'], ['I1', 'c2', 'd3'], ['I2', 'a1', 'a1', 'a1', 'a1', 'a1'], ['I2', 'a1', 'a1', 'a1', 'a1', 'b1'], ['I2', 'a1', 'a1', 'a1', 'b1', 'b1'], ['I2', 'a1', 'a1', 'a1', 'a2'], ['I2', 'a1', 'a1', 'a1', 'b2'], ['I2', 'a1', 'a1', 'a1', 'c2'], ['I2', 'a1', 'a1', 'b1', 'b1', 'b1'], ['I2', 'a1', 'a1', 'b1', 'a2'], ['I2', 'a1', 'a1', 'b1', 'b2'], ['I2', 'a1', 'a1', 'b1', 'c2'], ['I2', 'a1', 'a1', 'a3'], ['I2', 'a1', 'a1', 'b3'], ['I2', 'a1', 'a1', 'c3'], ['I2', 'a1', 'a1', 'd3'], ['I2', 'a1', 'b1', 'b1', 'b1', 'b1'], ['I2', 'a1', 'b1', 'b1', 'a2'], ['I2', 'a1', 'b1', 'b1', 'b2'], ['I2', 'a1', 'b1', 'b1', 'c2'], ['I2', 'a1', 'b1', 'a3'], ['I2', 'a1', 'b1', 'b3'], ['I2', 'a1', 'b1', 'c3'], ['I2', 'a1', 'b1', 'd3'], ['I2', 'a1', 'a2', 'a2'], ['I2', 'a1', 'a2', 'b2'], ['I2', 'a1', 'a2', 'c2'], ['I2', 'a1', 'b2', 'b2'], ['I2', 'a1', 'b2', 'c2'], ['I2', 'a1', 'c2', 'c2'], ['I2', 'a1', 'a4'], ['I2', 'b1', 'b1', 'b1', 'b1', 'b1'], ['I2', 'b1', 'b1', 'b1', 'a2'], ['I2', 'b1', 'b1', 'b1', 'b2'], ['I2', 'b1', 'b1', 'b1', 'c2'], ['I2', 'b1', 'b1', 'a3'], ['I2', 'b1', 'b1', 'b3'], ['I2', 'b1', 'b1', 'c3'], ['I2', 'b1', 'b1', 'd3'], ['I2', 'b1', 'a2', 'a2'], ['I2', 'b1', 'a2', 'b2'], ['I2', 'b1', 'a2', 'c2'], ['I2', 'b1', 'b2', 'b2'], ['I2', 'b1', 'b2', 'c2'], ['I2', 'b1', 'c2', 'c2'], ['I2', 'b1', 'a4'], ['I2', 'a2', 'a3'], ['I2', 'a2', 'b3'], ['I2', 'a2', 'c3'], ['I2', 'a2', 'd3'], ['I2', 'b2', 'a3'], ['I2', 'b2', 'b3'], ['I2', 'b2', 'c3'], ['I2', 'b2', 'd3'], ['I2', 'c2', 'a3'], ['I2', 'c2', 'b3'], ['I2', 'c2', 'c3'], ['I2', 'c2', 'd3'], ['I3', 'a1', 'a1', 'a1', 'a1'], ['I3', 'a1', 'a1', 'a1', 'b1'], ['I3', 'a1', 'a1', 'b1', 'b1'], ['I3', 'a1', 'a1', 'a2'], ['I3', 'a1', 'a1', 'b2'], ['I3', 'a1', 'a1', 'c2'], ['I3', 'a1', 'b1', 'b1', 'b1'], ['I3', 'a1', 'b1', 'a2'], ['I3', 'a1', 'b1', 'b2'], ['I3', 'a1', 'b1', 'c2'], ['I3', 'a1', 'a3'], ['I3', 'a1', 'b3'], ['I3', 'a1', 'c3'], ['I3', 'a1', 'd3'], ['I3', 'b1', 'b1', 'b1', 'b1'], ['I3', 'b1', 'b1', 'a2'], ['I3', 'b1', 'b1', 'b2'], ['I3', 'b1', 'b1', 'c2'], ['I3', 'b1', 'a3'], ['I3', 'b1', 'b3'], ['I3', 'b1', 'c3'], ['I3', 'b1', 'd3'], ['I3', 'a2', 'a2'], ['I3', 'a2', 'b2'], ['I3', 'a2', 'c2'], ['I3', 'b2', 'b2'], ['I3', 'b2', 'c2'], ['I3', 'c2', 'c2'], ['I3', 'a4'], ['I4', 'a1', 'a1', 'a1', 'a1'], ['I4', 'a1', 'a1', 'a1', 'b1'], ['I4', 'a1', 'a1', 'b1', 'b1'], ['I4', 'a1', 'a1', 'a2'], ['I4', 'a1', 'a1', 'b2'], ['I4', 'a1', 'a1', 'c2'], ['I4', 'a1', 'b1', 'b1', 'b1'], ['I4', 'a1', 'b1', 'a2'], ['I4', 'a1', 'b1', 'b2'], ['I4', 'a1', 'b1', 'c2'], ['I4', 'a1', 'a3'], ['I4', 'a1', 'b3'], ['I4', 'a1', 'c3'], ['I4', 'a1', 'd3'], ['I4', 'b1', 'b1', 'b1', 'b1'], ['I4', 'b1', 'b1', 'a2'], ['I4', 'b1', 'b1', 'b2'], ['I4', 'b1', 'b1', 'c2'], ['I4', 'b1', 'a3'], ['I4', 'b1', 'b3'], ['I4', 'b1', 'c3'], ['I4', 'b1', 'd3'], ['I4', 'a2', 'a2'], ['I4', 'a2', 'b2'], ['I4', 'a2', 'c2'], ['I4', 'b2', 'b2'], ['I4', 'b2', 'c2'], ['I4', 'c2', 'c2'], ['I4', 'a4'], ['I5', 'a1', 'a1', 'a1', 'a1'], ['I5', 'a1', 'a1', 'a1', 'b1'], ['I5', 'a1', 'a1', 'b1', 'b1'], ['I5', 'a1', 'a1', 'a2'], ['I5', 'a1', 'a1', 'b2'], ['I5', 'a1', 'a1', 'c2'], ['I5', 'a1', 'b1', 'b1', 'b1'], ['I5', 'a1', 'b1', 'a2'], ['I5', 'a1', 'b1', 'b2'], ['I5', 'a1', 'b1', 'c2'], ['I5', 'a1', 'a3'], ['I5', 'a1', 'b3'], ['I5', 'a1', 'c3'], ['I5', 'a1', 'd3'], ['I5', 'b1', 'b1', 'b1', 'b1'], ['I5', 'b1', 'b1', 'a2'], ['I5', 'b1', 'b1', 'b2'], ['I5', 'b1', 'b1', 'c2'], ['I5', 'b1', 'a3'], ['I5', 'b1', 'b3'], ['I5', 'b1', 'c3'], ['I5', 'b1', 'd3'], ['I5', 'a2', 'a2'], ['I5', 'a2', 'b2'], ['I5', 'a2', 'c2'], ['I5', 'b2', 'b2'], ['I5', 'b2', 'c2'], ['I5', 'c2', 'c2'], ['I5', 'a4'], ['I6', 'a1', 'a1', 'a1', 'a1'], ['I6', 'a1', 'a1', 'a1', 'b1'], ['I6', 'a1', 'a1', 'b1', 'b1'], ['I6', 'a1', 'a1', 'a2'], ['I6', 'a1', 'a1', 'b2'], ['I6', 'a1', 'a1', 'c2'], ['I6', 'a1', 'b1', 'b1', 'b1'], ['I6', 'a1', 'b1', 'a2'], ['I6', 'a1', 'b1', 'b2'], ['I6', 'a1', 'b1', 'c2'], ['I6', 'a1', 'a3'], ['I6', 'a1', 'b3'], ['I6', 'a1', 'c3'], ['I6', 'a1', 'd3'], ['I6', 'b1', 'b1', 'b1', 'b1'], ['I6', 'b1', 'b1', 'a2'], ['I6', 'b1', 'b1', 'b2'], ['I6', 'b1', 'b1', 'c2'], ['I6', 'b1', 'a3'], ['I6', 'b1', 'b3'], ['I6', 'b1', 'c3'], ['I6', 'b1', 'd3'], ['I6', 'a2', 'a2'], ['I6', 'a2', 'b2'], ['I6', 'a2', 'c2'], ['I6', 'b2', 'b2'], ['I6', 'b2', 'c2'], ['I6', 'c2', 'c2'], ['I6', 'a4'], ['I7', 'a1', 'a1', 'a1'], ['I7', 'a1', 'a1', 'b1'], ['I7', 'a1', 'b1', 'b1'], ['I7', 'a1', 'a2'], ['I7', 'a1', 'b2'], ['I7', 'a1', 'c2'], ['I7', 'b1', 'b1', 'b1'], ['I7', 'b1', 'a2'], ['I7', 'b1', 'b2'], ['I7', 'b1', 'c2'], ['I7', 'a3'], ['I7', 'b3'], ['I7', 'c3'], ['I7', 'd3'], ['I8', 'a1', 'a1', 'a1'], ['I8', 'a1', 'a1', 'b1'], ['I8', 'a1', 'b1', 'b1'], ['I8', 'a1', 'a2'], ['I8', 'a1', 'b2'], ['I8', 'a1', 'c2'], ['I8', 'b1', 'b1', 'b1'], ['I8', 'b1', 'a2'], ['I8', 'b1', 'b2'], ['I8', 'b1', 'c2'], ['I8', 'a3'], ['I8', 'b3'], ['I8', 'c3'], ['I8', 'd3'], ['I9', 'a1', 'a1', 'a1'], ['I9', 'a1', 'a1', 'b1'], ['I9', 'a1', 'b1', 'b1'], ['I9', 'a1', 'a2'], ['I9', 'a1', 'b2'], ['I9', 'a1', 'c2'], ['I9', 'b1', 'b1', 'b1'], ['I9', 'b1', 'a2'], ['I9', 'b1', 'b2'], ['I9', 'b1', 'c2'], ['I9', 'a3'], ['I9', 'b3'], ['I9', 'c3'], ['I9', 'd3'], ['I10', 'a1', 'a1', 'a1'], ['I10', 'a1', 'a1', 'b1'], ['I10', 'a1', 'b1', 'b1'], ['I10', 'a1', 'a2'], ['I10', 'a1', 'b2'], ['I10', 'a1', 'c2'], ['I10', 'b1', 'b1', 'b1'], ['I10', 'b1', 'a2'], ['I10', 'b1', 'b2'], ['I10', 'b1', 'c2'], ['I10', 'a3'], ['I10', 'b3'], ['I10', 'c3'], ['I10', 'd3'], ['I11', 'a1', 'a1'], ['I11', 'a1', 'b1'], ['I11', 'b1', 'b1'], ['I11', 'a2'], ['I11', 'b2'], ['I11', 'c2'], ['I12', 'a1', 'a1'], ['I12', 'a1', 'b1'], ['I12', 'b1', 'b1'], ['I12', 'a2'], ['I12', 'b2'], ['I12', 'c2'], ['I13', 'a1', 'a1'], ['I13', 'a1', 'b1'], ['I13', 'b1', 'b1'], ['I13', 'a2'], ['I13', 'b2'], ['I13', 'c2'], ['I14', 'a1', 'a1'], ['I14', 'a1', 'b1'], ['I14', 'b1', 'b1'], ['I14', 'a2'], ['I14', 'b2'], ['I14', 'c2'], ['I15', 'a1', 'a1'], ['I15', 'a1', 'b1'], ['I15', 'b1', 'b1'], ['I15', 'a2'], ['I15', 'b2'], ['I15', 'c2'], ['I16', 'a1', 'a1'], ['I16', 'a1', 'b1'], ['I16', 'b1', 'b1'], ['I16', 'a2'], ['I16', 'b2'], ['I16', 'c2'], ['I17', 'a1'], ['I17', 'b1'], ['I18', 'a1'], ['I18', 'b1'], ['I19', 'a1'], ['I19', 'b1'], ['I20', 'a1'], ['I20', 'b1'], ['I21'], ['I22'], ['I23'], ['I24'], ['I25'], ['I26'], ['I27'], ['I28']]\n",
            "442\n"
          ]
        }
      ]
    },
    {
      "cell_type": "code",
      "metadata": {
        "colab": {
          "base_uri": "https://localhost:8080/"
        },
        "id": "Seu9sXVpdt0b",
        "outputId": "b65dda4f-1409-46a7-b68d-145452aba53b"
      },
      "source": [
        "ns=null_space(mat)\n",
        "print(np.around(np.array(ns)[1:],3))\n",
        "print(ns.shape)"
      ],
      "execution_count": null,
      "outputs": [
        {
          "output_type": "stream",
          "name": "stdout",
          "text": [
            "[[ 0.018 -0.005  0.078 -0.106  0.009  0.108]\n",
            " [ 0.104 -0.117 -0.024  0.048 -0.012  0.043]\n",
            " [ 0.     0.    -0.    -0.    -0.     0.   ]\n",
            " ...\n",
            " [ 0.     0.     0.    -0.     0.     0.   ]\n",
            " [ 0.     0.     0.     0.    -0.     0.   ]\n",
            " [ 0.    -0.     0.    -0.     0.     0.   ]]\n",
            "(442, 6)\n"
          ]
        }
      ]
    },
    {
      "cell_type": "code",
      "metadata": {
        "colab": {
          "base_uri": "https://localhost:8080/",
          "height": 360
        },
        "id": "Yf_u5Zptlm-3",
        "outputId": "d05c4da0-21bb-4d63-c02b-2239c6286048"
      },
      "source": [
        "M=sym.Matrix(mat);\n",
        "a=M.nullspace()\n",
        "print(a)"
      ],
      "execution_count": null,
      "outputs": [
        {
          "output_type": "error",
          "ename": "KeyboardInterrupt",
          "evalue": "ignored",
          "traceback": [
            "\u001b[0;31m---------------------------------------------------------------------------\u001b[0m",
            "\u001b[0;31mKeyboardInterrupt\u001b[0m                         Traceback (most recent call last)",
            "\u001b[0;32m<ipython-input-11-5ec56f1ee211>\u001b[0m in \u001b[0;36m<module>\u001b[0;34m()\u001b[0m\n\u001b[1;32m      1\u001b[0m \u001b[0mM\u001b[0m\u001b[0;34m=\u001b[0m\u001b[0msym\u001b[0m\u001b[0;34m.\u001b[0m\u001b[0mMatrix\u001b[0m\u001b[0;34m(\u001b[0m\u001b[0mmat\u001b[0m\u001b[0;34m)\u001b[0m\u001b[0;34m;\u001b[0m\u001b[0;34m\u001b[0m\u001b[0;34m\u001b[0m\u001b[0m\n\u001b[0;32m----> 2\u001b[0;31m \u001b[0ma\u001b[0m\u001b[0;34m=\u001b[0m\u001b[0mM\u001b[0m\u001b[0;34m.\u001b[0m\u001b[0mnullspace\u001b[0m\u001b[0;34m(\u001b[0m\u001b[0;34m)\u001b[0m\u001b[0;34m\u001b[0m\u001b[0;34m\u001b[0m\u001b[0m\n\u001b[0m\u001b[1;32m      3\u001b[0m \u001b[0mprint\u001b[0m\u001b[0;34m(\u001b[0m\u001b[0ma\u001b[0m\u001b[0;34m)\u001b[0m\u001b[0;34m\u001b[0m\u001b[0;34m\u001b[0m\u001b[0m\n",
            "\u001b[0;32m/usr/local/lib/python3.7/dist-packages/sympy/matrices/matrices.py\u001b[0m in \u001b[0;36mnullspace\u001b[0;34m(self, simplify, iszerofunc)\u001b[0m\n\u001b[1;32m    341\u001b[0m \u001b[0;34m\u001b[0m\u001b[0m\n\u001b[1;32m    342\u001b[0m     \u001b[0;32mdef\u001b[0m \u001b[0mnullspace\u001b[0m\u001b[0;34m(\u001b[0m\u001b[0mself\u001b[0m\u001b[0;34m,\u001b[0m \u001b[0msimplify\u001b[0m\u001b[0;34m=\u001b[0m\u001b[0;32mFalse\u001b[0m\u001b[0;34m,\u001b[0m \u001b[0miszerofunc\u001b[0m\u001b[0;34m=\u001b[0m\u001b[0m_iszero\u001b[0m\u001b[0;34m)\u001b[0m\u001b[0;34m:\u001b[0m\u001b[0;34m\u001b[0m\u001b[0;34m\u001b[0m\u001b[0m\n\u001b[0;32m--> 343\u001b[0;31m         \u001b[0;32mreturn\u001b[0m \u001b[0m_nullspace\u001b[0m\u001b[0;34m(\u001b[0m\u001b[0mself\u001b[0m\u001b[0;34m,\u001b[0m \u001b[0msimplify\u001b[0m\u001b[0;34m=\u001b[0m\u001b[0msimplify\u001b[0m\u001b[0;34m,\u001b[0m \u001b[0miszerofunc\u001b[0m\u001b[0;34m=\u001b[0m\u001b[0miszerofunc\u001b[0m\u001b[0;34m)\u001b[0m\u001b[0;34m\u001b[0m\u001b[0;34m\u001b[0m\u001b[0m\n\u001b[0m\u001b[1;32m    344\u001b[0m \u001b[0;34m\u001b[0m\u001b[0m\n\u001b[1;32m    345\u001b[0m     \u001b[0;32mdef\u001b[0m \u001b[0mrowspace\u001b[0m\u001b[0;34m(\u001b[0m\u001b[0mself\u001b[0m\u001b[0;34m,\u001b[0m \u001b[0msimplify\u001b[0m\u001b[0;34m=\u001b[0m\u001b[0;32mFalse\u001b[0m\u001b[0;34m)\u001b[0m\u001b[0;34m:\u001b[0m\u001b[0;34m\u001b[0m\u001b[0;34m\u001b[0m\u001b[0m\n",
            "\u001b[0;32m/usr/local/lib/python3.7/dist-packages/sympy/matrices/subspaces.py\u001b[0m in \u001b[0;36m_nullspace\u001b[0;34m(M, simplify, iszerofunc)\u001b[0m\n\u001b[1;32m     64\u001b[0m     \"\"\"\n\u001b[1;32m     65\u001b[0m \u001b[0;34m\u001b[0m\u001b[0m\n\u001b[0;32m---> 66\u001b[0;31m     \u001b[0mreduced\u001b[0m\u001b[0;34m,\u001b[0m \u001b[0mpivots\u001b[0m \u001b[0;34m=\u001b[0m \u001b[0mM\u001b[0m\u001b[0;34m.\u001b[0m\u001b[0mrref\u001b[0m\u001b[0;34m(\u001b[0m\u001b[0miszerofunc\u001b[0m\u001b[0;34m=\u001b[0m\u001b[0miszerofunc\u001b[0m\u001b[0;34m,\u001b[0m \u001b[0msimplify\u001b[0m\u001b[0;34m=\u001b[0m\u001b[0msimplify\u001b[0m\u001b[0;34m)\u001b[0m\u001b[0;34m\u001b[0m\u001b[0;34m\u001b[0m\u001b[0m\n\u001b[0m\u001b[1;32m     67\u001b[0m \u001b[0;34m\u001b[0m\u001b[0m\n\u001b[1;32m     68\u001b[0m     \u001b[0mfree_vars\u001b[0m \u001b[0;34m=\u001b[0m \u001b[0;34m[\u001b[0m\u001b[0mi\u001b[0m \u001b[0;32mfor\u001b[0m \u001b[0mi\u001b[0m \u001b[0;32min\u001b[0m \u001b[0mrange\u001b[0m\u001b[0;34m(\u001b[0m\u001b[0mM\u001b[0m\u001b[0;34m.\u001b[0m\u001b[0mcols\u001b[0m\u001b[0;34m)\u001b[0m \u001b[0;32mif\u001b[0m \u001b[0mi\u001b[0m \u001b[0;32mnot\u001b[0m \u001b[0;32min\u001b[0m \u001b[0mpivots\u001b[0m\u001b[0;34m]\u001b[0m\u001b[0;34m\u001b[0m\u001b[0;34m\u001b[0m\u001b[0m\n",
            "\u001b[0;32m/usr/local/lib/python3.7/dist-packages/sympy/matrices/matrices.py\u001b[0m in \u001b[0;36mrref\u001b[0;34m(self, iszerofunc, simplify, pivots, normalize_last)\u001b[0m\n\u001b[1;32m    163\u001b[0m             normalize_last=True):\n\u001b[1;32m    164\u001b[0m         return _rref(self, iszerofunc=iszerofunc, simplify=simplify,\n\u001b[0;32m--> 165\u001b[0;31m             pivots=pivots, normalize_last=normalize_last)\n\u001b[0m\u001b[1;32m    166\u001b[0m \u001b[0;34m\u001b[0m\u001b[0m\n\u001b[1;32m    167\u001b[0m     \u001b[0mechelon_form\u001b[0m\u001b[0;34m.\u001b[0m\u001b[0m__doc__\u001b[0m \u001b[0;34m=\u001b[0m \u001b[0m_echelon_form\u001b[0m\u001b[0;34m.\u001b[0m\u001b[0m__doc__\u001b[0m\u001b[0;34m\u001b[0m\u001b[0;34m\u001b[0m\u001b[0m\n",
            "\u001b[0;32m/usr/local/lib/python3.7/dist-packages/sympy/matrices/reductions.py\u001b[0m in \u001b[0;36m_rref\u001b[0;34m(M, iszerofunc, simplify, pivots, normalize_last)\u001b[0m\n\u001b[1;32m    304\u001b[0m \u001b[0;34m\u001b[0m\u001b[0m\n\u001b[1;32m    305\u001b[0m     mat, pivot_cols, _ = _row_reduce(M, iszerofunc, simpfunc,\n\u001b[0;32m--> 306\u001b[0;31m             normalize_last, normalize=True, zero_above=True)\n\u001b[0m\u001b[1;32m    307\u001b[0m \u001b[0;34m\u001b[0m\u001b[0m\n\u001b[1;32m    308\u001b[0m     \u001b[0;32mif\u001b[0m \u001b[0mpivots\u001b[0m\u001b[0;34m:\u001b[0m\u001b[0;34m\u001b[0m\u001b[0;34m\u001b[0m\u001b[0m\n",
            "\u001b[0;32m/usr/local/lib/python3.7/dist-packages/sympy/matrices/reductions.py\u001b[0m in \u001b[0;36m_row_reduce\u001b[0;34m(M, iszerofunc, simpfunc, normalize_last, normalize, zero_above)\u001b[0m\n\u001b[1;32m    127\u001b[0m     mat, pivot_cols, swaps = _row_reduce_list(list(M), M.rows, M.cols, M.one,\n\u001b[1;32m    128\u001b[0m             \u001b[0miszerofunc\u001b[0m\u001b[0;34m,\u001b[0m \u001b[0msimpfunc\u001b[0m\u001b[0;34m,\u001b[0m \u001b[0mnormalize_last\u001b[0m\u001b[0;34m=\u001b[0m\u001b[0mnormalize_last\u001b[0m\u001b[0;34m,\u001b[0m\u001b[0;34m\u001b[0m\u001b[0;34m\u001b[0m\u001b[0m\n\u001b[0;32m--> 129\u001b[0;31m             normalize=normalize, zero_above=zero_above)\n\u001b[0m\u001b[1;32m    130\u001b[0m \u001b[0;34m\u001b[0m\u001b[0m\n\u001b[1;32m    131\u001b[0m     \u001b[0;32mreturn\u001b[0m \u001b[0mM\u001b[0m\u001b[0;34m.\u001b[0m\u001b[0m_new\u001b[0m\u001b[0;34m(\u001b[0m\u001b[0mM\u001b[0m\u001b[0;34m.\u001b[0m\u001b[0mrows\u001b[0m\u001b[0;34m,\u001b[0m \u001b[0mM\u001b[0m\u001b[0;34m.\u001b[0m\u001b[0mcols\u001b[0m\u001b[0;34m,\u001b[0m \u001b[0mmat\u001b[0m\u001b[0;34m)\u001b[0m\u001b[0;34m,\u001b[0m \u001b[0mpivot_cols\u001b[0m\u001b[0;34m,\u001b[0m \u001b[0mswaps\u001b[0m\u001b[0;34m\u001b[0m\u001b[0;34m\u001b[0m\u001b[0m\n",
            "\u001b[0;32m/usr/local/lib/python3.7/dist-packages/sympy/matrices/reductions.py\u001b[0m in \u001b[0;36m_row_reduce_list\u001b[0;34m(mat, rows, cols, one, iszerofunc, simpfunc, normalize_last, normalize, zero_above)\u001b[0m\n\u001b[1;32m    107\u001b[0m                 \u001b[0;32mcontinue\u001b[0m\u001b[0;34m\u001b[0m\u001b[0;34m\u001b[0m\u001b[0m\n\u001b[1;32m    108\u001b[0m \u001b[0;34m\u001b[0m\u001b[0m\n\u001b[0;32m--> 109\u001b[0;31m             \u001b[0mcross_cancel\u001b[0m\u001b[0;34m(\u001b[0m\u001b[0mpivot_val\u001b[0m\u001b[0;34m,\u001b[0m \u001b[0mrow\u001b[0m\u001b[0;34m,\u001b[0m \u001b[0mval\u001b[0m\u001b[0;34m,\u001b[0m \u001b[0mpiv_row\u001b[0m\u001b[0;34m)\u001b[0m\u001b[0;34m\u001b[0m\u001b[0;34m\u001b[0m\u001b[0m\n\u001b[0m\u001b[1;32m    110\u001b[0m         \u001b[0mpiv_row\u001b[0m \u001b[0;34m+=\u001b[0m \u001b[0;36m1\u001b[0m\u001b[0;34m\u001b[0m\u001b[0;34m\u001b[0m\u001b[0m\n\u001b[1;32m    111\u001b[0m \u001b[0;34m\u001b[0m\u001b[0m\n",
            "\u001b[0;32m/usr/local/lib/python3.7/dist-packages/sympy/matrices/reductions.py\u001b[0m in \u001b[0;36mcross_cancel\u001b[0;34m(a, i, b, j)\u001b[0m\n\u001b[1;32m     56\u001b[0m         \u001b[0mq\u001b[0m \u001b[0;34m=\u001b[0m \u001b[0;34m(\u001b[0m\u001b[0mj\u001b[0m \u001b[0;34m-\u001b[0m \u001b[0mi\u001b[0m\u001b[0;34m)\u001b[0m\u001b[0;34m*\u001b[0m\u001b[0mcols\u001b[0m\u001b[0;34m\u001b[0m\u001b[0;34m\u001b[0m\u001b[0m\n\u001b[1;32m     57\u001b[0m         \u001b[0;32mfor\u001b[0m \u001b[0mp\u001b[0m \u001b[0;32min\u001b[0m \u001b[0mrange\u001b[0m\u001b[0;34m(\u001b[0m\u001b[0mi\u001b[0m\u001b[0;34m*\u001b[0m\u001b[0mcols\u001b[0m\u001b[0;34m,\u001b[0m \u001b[0;34m(\u001b[0m\u001b[0mi\u001b[0m \u001b[0;34m+\u001b[0m \u001b[0;36m1\u001b[0m\u001b[0;34m)\u001b[0m\u001b[0;34m*\u001b[0m\u001b[0mcols\u001b[0m\u001b[0;34m)\u001b[0m\u001b[0;34m:\u001b[0m\u001b[0;34m\u001b[0m\u001b[0;34m\u001b[0m\u001b[0m\n\u001b[0;32m---> 58\u001b[0;31m             \u001b[0mmat\u001b[0m\u001b[0;34m[\u001b[0m\u001b[0mp\u001b[0m\u001b[0;34m]\u001b[0m \u001b[0;34m=\u001b[0m \u001b[0misimp\u001b[0m\u001b[0;34m(\u001b[0m\u001b[0ma\u001b[0m\u001b[0;34m*\u001b[0m\u001b[0mmat\u001b[0m\u001b[0;34m[\u001b[0m\u001b[0mp\u001b[0m\u001b[0;34m]\u001b[0m \u001b[0;34m-\u001b[0m \u001b[0mb\u001b[0m\u001b[0;34m*\u001b[0m\u001b[0mmat\u001b[0m\u001b[0;34m[\u001b[0m\u001b[0mp\u001b[0m \u001b[0;34m+\u001b[0m \u001b[0mq\u001b[0m\u001b[0;34m]\u001b[0m\u001b[0;34m)\u001b[0m\u001b[0;34m\u001b[0m\u001b[0;34m\u001b[0m\u001b[0m\n\u001b[0m\u001b[1;32m     59\u001b[0m \u001b[0;34m\u001b[0m\u001b[0m\n\u001b[1;32m     60\u001b[0m     \u001b[0misimp\u001b[0m \u001b[0;34m=\u001b[0m \u001b[0m_get_intermediate_simp\u001b[0m\u001b[0;34m(\u001b[0m\u001b[0m_dotprodsimp\u001b[0m\u001b[0;34m)\u001b[0m\u001b[0;34m\u001b[0m\u001b[0;34m\u001b[0m\u001b[0m\n",
            "\u001b[0;32m/usr/local/lib/python3.7/dist-packages/sympy/core/decorators.py\u001b[0m in \u001b[0;36m__sympifyit_wrapper\u001b[0;34m(a, b)\u001b[0m\n\u001b[1;32m     94\u001b[0m                 \u001b[0;32mif\u001b[0m \u001b[0;32mnot\u001b[0m \u001b[0mhasattr\u001b[0m\u001b[0;34m(\u001b[0m\u001b[0mb\u001b[0m\u001b[0;34m,\u001b[0m \u001b[0;34m'_op_priority'\u001b[0m\u001b[0;34m)\u001b[0m\u001b[0;34m:\u001b[0m\u001b[0;34m\u001b[0m\u001b[0;34m\u001b[0m\u001b[0m\n\u001b[1;32m     95\u001b[0m                     \u001b[0mb\u001b[0m \u001b[0;34m=\u001b[0m \u001b[0msympify\u001b[0m\u001b[0;34m(\u001b[0m\u001b[0mb\u001b[0m\u001b[0;34m,\u001b[0m \u001b[0mstrict\u001b[0m\u001b[0;34m=\u001b[0m\u001b[0;32mTrue\u001b[0m\u001b[0;34m)\u001b[0m\u001b[0;34m\u001b[0m\u001b[0;34m\u001b[0m\u001b[0m\n\u001b[0;32m---> 96\u001b[0;31m                 \u001b[0;32mreturn\u001b[0m \u001b[0mfunc\u001b[0m\u001b[0;34m(\u001b[0m\u001b[0ma\u001b[0m\u001b[0;34m,\u001b[0m \u001b[0mb\u001b[0m\u001b[0;34m)\u001b[0m\u001b[0;34m\u001b[0m\u001b[0;34m\u001b[0m\u001b[0m\n\u001b[0m\u001b[1;32m     97\u001b[0m             \u001b[0;32mexcept\u001b[0m \u001b[0mSympifyError\u001b[0m\u001b[0;34m:\u001b[0m\u001b[0;34m\u001b[0m\u001b[0;34m\u001b[0m\u001b[0m\n\u001b[1;32m     98\u001b[0m                 \u001b[0;32mreturn\u001b[0m \u001b[0mretval\u001b[0m\u001b[0;34m\u001b[0m\u001b[0;34m\u001b[0m\u001b[0m\n",
            "\u001b[0;32m/usr/local/lib/python3.7/dist-packages/sympy/core/numbers.py\u001b[0m in \u001b[0;36m__mul__\u001b[0;34m(self, other)\u001b[0m\n\u001b[1;32m   1318\u001b[0m         \u001b[0;32mif\u001b[0m \u001b[0misinstance\u001b[0m\u001b[0;34m(\u001b[0m\u001b[0mother\u001b[0m\u001b[0;34m,\u001b[0m \u001b[0mNumber\u001b[0m\u001b[0;34m)\u001b[0m \u001b[0;32mand\u001b[0m \u001b[0mglobal_parameters\u001b[0m\u001b[0;34m.\u001b[0m\u001b[0mevaluate\u001b[0m\u001b[0;34m:\u001b[0m\u001b[0;34m\u001b[0m\u001b[0;34m\u001b[0m\u001b[0m\n\u001b[1;32m   1319\u001b[0m             \u001b[0mrhs\u001b[0m\u001b[0;34m,\u001b[0m \u001b[0mprec\u001b[0m \u001b[0;34m=\u001b[0m \u001b[0mother\u001b[0m\u001b[0;34m.\u001b[0m\u001b[0m_as_mpf_op\u001b[0m\u001b[0;34m(\u001b[0m\u001b[0mself\u001b[0m\u001b[0;34m.\u001b[0m\u001b[0m_prec\u001b[0m\u001b[0;34m)\u001b[0m\u001b[0;34m\u001b[0m\u001b[0;34m\u001b[0m\u001b[0m\n\u001b[0;32m-> 1320\u001b[0;31m             \u001b[0;32mreturn\u001b[0m \u001b[0mFloat\u001b[0m\u001b[0;34m.\u001b[0m\u001b[0m_new\u001b[0m\u001b[0;34m(\u001b[0m\u001b[0mmlib\u001b[0m\u001b[0;34m.\u001b[0m\u001b[0mmpf_mul\u001b[0m\u001b[0;34m(\u001b[0m\u001b[0mself\u001b[0m\u001b[0;34m.\u001b[0m\u001b[0m_mpf_\u001b[0m\u001b[0;34m,\u001b[0m \u001b[0mrhs\u001b[0m\u001b[0;34m,\u001b[0m \u001b[0mprec\u001b[0m\u001b[0;34m,\u001b[0m \u001b[0mrnd\u001b[0m\u001b[0;34m)\u001b[0m\u001b[0;34m,\u001b[0m \u001b[0mprec\u001b[0m\u001b[0;34m)\u001b[0m\u001b[0;34m\u001b[0m\u001b[0;34m\u001b[0m\u001b[0m\n\u001b[0m\u001b[1;32m   1321\u001b[0m         \u001b[0;32mreturn\u001b[0m \u001b[0mNumber\u001b[0m\u001b[0;34m.\u001b[0m\u001b[0m__mul__\u001b[0m\u001b[0;34m(\u001b[0m\u001b[0mself\u001b[0m\u001b[0;34m,\u001b[0m \u001b[0mother\u001b[0m\u001b[0;34m)\u001b[0m\u001b[0;34m\u001b[0m\u001b[0;34m\u001b[0m\u001b[0m\n\u001b[1;32m   1322\u001b[0m \u001b[0;34m\u001b[0m\u001b[0m\n",
            "\u001b[0;32m/usr/local/lib/python3.7/dist-packages/mpmath/libmp/libmpf.py\u001b[0m in \u001b[0;36mpython_mpf_mul\u001b[0;34m(s, t, prec, rnd)\u001b[0m\n\u001b[1;32m    892\u001b[0m         \u001b[0mbc\u001b[0m \u001b[0;34m+=\u001b[0m \u001b[0mint\u001b[0m\u001b[0;34m(\u001b[0m\u001b[0mman\u001b[0m\u001b[0;34m>>\u001b[0m\u001b[0mbc\u001b[0m\u001b[0;34m)\u001b[0m\u001b[0;34m\u001b[0m\u001b[0;34m\u001b[0m\u001b[0m\n\u001b[1;32m    893\u001b[0m         \u001b[0;32mif\u001b[0m \u001b[0mprec\u001b[0m\u001b[0;34m:\u001b[0m\u001b[0;34m\u001b[0m\u001b[0;34m\u001b[0m\u001b[0m\n\u001b[0;32m--> 894\u001b[0;31m             \u001b[0;32mreturn\u001b[0m \u001b[0mnormalize1\u001b[0m\u001b[0;34m(\u001b[0m\u001b[0msign\u001b[0m\u001b[0;34m,\u001b[0m \u001b[0mman\u001b[0m\u001b[0;34m,\u001b[0m \u001b[0msexp\u001b[0m\u001b[0;34m+\u001b[0m\u001b[0mtexp\u001b[0m\u001b[0;34m,\u001b[0m \u001b[0mbc\u001b[0m\u001b[0;34m,\u001b[0m \u001b[0mprec\u001b[0m\u001b[0;34m,\u001b[0m \u001b[0mrnd\u001b[0m\u001b[0;34m)\u001b[0m\u001b[0;34m\u001b[0m\u001b[0;34m\u001b[0m\u001b[0m\n\u001b[0m\u001b[1;32m    895\u001b[0m         \u001b[0;32melse\u001b[0m\u001b[0;34m:\u001b[0m\u001b[0;34m\u001b[0m\u001b[0;34m\u001b[0m\u001b[0m\n\u001b[1;32m    896\u001b[0m             \u001b[0;32mreturn\u001b[0m \u001b[0;34m(\u001b[0m\u001b[0msign\u001b[0m\u001b[0;34m,\u001b[0m \u001b[0mman\u001b[0m\u001b[0;34m,\u001b[0m \u001b[0msexp\u001b[0m\u001b[0;34m+\u001b[0m\u001b[0mtexp\u001b[0m\u001b[0;34m,\u001b[0m \u001b[0mbc\u001b[0m\u001b[0;34m)\u001b[0m\u001b[0;34m\u001b[0m\u001b[0;34m\u001b[0m\u001b[0m\n",
            "\u001b[0;31mKeyboardInterrupt\u001b[0m: "
          ]
        }
      ]
    }
  ]
}