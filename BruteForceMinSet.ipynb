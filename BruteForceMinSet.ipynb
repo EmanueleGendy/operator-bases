{
 "cells": [
  {
   "cell_type": "markdown",
   "metadata": {
    "colab_type": "text",
    "id": "view-in-github"
   },
   "source": [
    "<a href=\"https://colab.research.google.com/github/EmanueleGendy/operator-bases/blob/branch1/BruteForceMinSet.ipynb\" target=\"_parent\"><img src=\"https://colab.research.google.com/assets/colab-badge.svg\" alt=\"Open In Colab\"/></a>"
   ]
  },
  {
   "cell_type": "markdown",
   "metadata": {},
   "source": [
    "# Finding Invariants"
   ]
  },
  {
   "cell_type": "markdown",
   "metadata": {},
   "source": [
    "This code produces all possible invariants built out of three matrices: C, Xu=Yu^\\dagger Yu and Xd=Yd^\\dagger Yd, where Yu and Yd are Yukawa matrices and C is a proxy for a matrix (in flavor space) of wilson coefficients of a higher dimensional operator in SMEFT. The invariants are required to be linear in C, i.e. C only appears once, while they contain as many Xu and Xd as needed to get to the desired degree \"degg\" fixed at the beginning. "
   ]
  },
  {
   "cell_type": "markdown",
   "metadata": {},
   "source": [
    "After having computed all the invariants of a fixed degree, we then check if there are linear relations within them. To this end, we create a linear system containing them and check if the associated matrix has a non-trivial null vector"
   ]
  },
  {
   "cell_type": "code",
   "execution_count": 1,
   "metadata": {},
   "outputs": [],
   "source": [
    "import numpy as np\n",
    "import sympy as sym\n",
    "from scipy.linalg import null_space"
   ]
  },
  {
   "cell_type": "code",
   "execution_count": 2,
   "metadata": {},
   "outputs": [],
   "source": [
    "degg = 4 # we will build all possible invariants built as products of traces of Xu, Xd and C, with the constraint they are linear in C "
   ]
  },
  {
   "cell_type": "code",
   "execution_count": 3,
   "metadata": {},
   "outputs": [],
   "source": [
    "def invlist(mat1, mat2):\n",
    "    \"\"\"\n",
    "    Generate a list of traces of products of matrices and their identities up to a certain combination length.\n",
    "    \n",
    "    Parameters:\n",
    "    - mat1, mat2: NumPy arrays representing matrices.\n",
    "    \n",
    "    Returns:\n",
    "    - A list of traces of various matrix products.\n",
    "    \"\"\"\n",
    "    combinations = [\n",
    "        [mat1, np.identity(3)], [mat2, np.identity(3)],\n",
    "        [mat1, mat1], [mat1, mat2], [mat2, mat2],\n",
    "        [mat1, mat1, mat1], [mat1, mat1, mat2], [mat1, mat2, mat2], [mat2, mat2, mat2],\n",
    "        [mat1, mat1, mat2, mat2]\n",
    "    ]\n",
    "    return [np.trace(np.linalg.multi_dot(combo)) for combo in combinations]\n",
    "\n",
    "def invlistm(mat1, mat2, c):\n",
    "    \"\"\"\n",
    "    Similar to `invlist` but includes an additional constant matrix `c` in the combinations.\n",
    "    \n",
    "    Parameters:\n",
    "    - mat1, mat2, c: NumPy arrays representing matrices.\n",
    "    \n",
    "    Returns:\n",
    "    - A list of traces of various matrix products including `c`.\n",
    "    \"\"\"\n",
    "    combinations = [\n",
    "        [c, np.identity(3)], [c, mat1], [c, mat2], \n",
    "        # Add further combinations as needed\n",
    "    ]\n",
    "    # Add more combinations as per your specific needs\n",
    "    return [np.trace(np.linalg.multi_dot(combo)) for combo in combinations]\n",
    "\n",
    "def recu(degree, ll, pr, name, totlist, prlist, namelist):\n",
    "    \"\"\"\n",
    "    Recursive function to generate all invariants up to a specified degree.\n",
    "    \n",
    "    Parameters:\n",
    "    - degree: The degree of invariants to generate.\n",
    "    - ll: A current list of invariants.\n",
    "    - pr: The current product of invariants.\n",
    "    - name: The current name of the invariant being processed.\n",
    "    - totlist: Accumulator for all combinations found.\n",
    "    - prlist: Products of invariants.\n",
    "    - namelist: Names of invariants.\n",
    "    \n",
    "    Returns:\n",
    "    - A list containing prlist and namelist after the recursion finishes.\n",
    "    \"\"\"\n",
    "    for i, exp in enumerate(expvec):\n",
    "        if degree - exp < 0 and degree == 0 and ll not in totlist:\n",
    "            ll.sort(key=lambda x: x[1])\n",
    "            prlist.append(pr)\n",
    "            namelist.append(name)\n",
    "            totlist.append(ll)\n",
    "        elif degree - exp >= 0:\n",
    "            recu(degree - exp, ll + [[exp, listvec[i]]], pr * randinvlist[i], name + [listvec[i]], totlist, prlist, namelist)\n",
    "    if i == len(expvec) - 1:\n",
    "        return [prlist, namelist]"
   ]
  },
  {
   "cell_type": "code",
   "execution_count": 4,
   "metadata": {},
   "outputs": [],
   "source": [
    "# Example usage and variable initialization\n",
    "expvec = [1, 1, 2, 2, 2, 3, 3, 3, 3, 4]\n",
    "listvec = [\"a1\", \"b1\", \"a2\", \"b2\", \"c2\", \"a3\", \"b3\", \"c3\", \"d3\", \"a4\"] # these correspond to the 10 invariants you can build with Yukawa matrices\n",
    "# see arXiv:0907.4763, while \"expvec\" contains their degree\n",
    "\n",
    "expvecm=[1,2,2,3,3,3,3,4,4,4,4,5,5,5,5,5,5,6,6,6,6,7,7,7,7,7,7,7,7] # these correspond to the invariants linear in C you can build with \n",
    "# Yukawa matrices and one instance of C up to degree 7 (for now this has to be done by hand)\n",
    "listvecm=['I'+str(i) for i in range(len(expvecm))] # this is just a list of names for the invariants above"
   ]
  },
  {
   "cell_type": "code",
   "execution_count": 5,
   "metadata": {},
   "outputs": [
    {
     "name": "stdout",
     "output_type": "stream",
     "text": [
      "[['I0', 'a1', 'a1', 'a1'], ['I0', 'a1', 'a1', 'b1'], ['I0', 'a1', 'b1', 'a1'], ['I0', 'a1', 'b1', 'b1'], ['I0', 'a1', 'a2'], ['I0', 'a1', 'b2'], ['I0', 'a1', 'c2'], ['I0', 'b1', 'a1', 'a1'], ['I0', 'b1', 'a1', 'b1'], ['I0', 'b1', 'b1', 'a1'], ['I0', 'b1', 'b1', 'b1'], ['I0', 'b1', 'a2'], ['I0', 'b1', 'b2'], ['I0', 'b1', 'c2'], ['I0', 'a2', 'a1'], ['I0', 'b2', 'a1'], ['I0', 'b2', 'b1'], ['I0', 'c2', 'a1'], ['I0', 'c2', 'b1'], ['I0', 'a3'], ['I0', 'b3'], ['I0', 'c3'], ['I0', 'd3'], ['I1', 'a1', 'a1'], ['I1', 'a1', 'b1'], ['I1', 'b1', 'a1'], ['I1', 'b1', 'b1'], ['I1', 'a2'], ['I1', 'b2'], ['I1', 'c2'], ['I2', 'a1', 'a1'], ['I2', 'a1', 'b1'], ['I2', 'b1', 'a1'], ['I2', 'b1', 'b1'], ['I2', 'a2'], ['I2', 'b2'], ['I2', 'c2'], ['I3', 'a1'], ['I3', 'b1'], ['I4', 'a1'], ['I4', 'b1'], ['I5', 'a1'], ['I5', 'b1'], ['I6', 'a1'], ['I6', 'b1'], ['I7'], ['I8'], ['I9'], ['I10']]\n",
      "49\n"
     ]
    }
   ],
   "source": [
    "# Generate random matrices of integers \n",
    "m1 = np.random.randint(10, size=(3, 3))\n",
    "m2 = np.random.randint(10, size=(3, 3))\n",
    "c = np.random.randint(10, size=(3, 3))\n",
    "\n",
    "# Generate random invariant lists\n",
    "randinvlist = invlist(m1, m2)\n",
    "randinvlistm = invlistm(m1, m2, c)\n",
    "\n",
    "# Process to find invariants\n",
    "systname = []\n",
    "for i in range(len(listvecm)):\n",
    "    if degg - expvecm[i] >= 0:\n",
    "        systname += [[listvecm[i]] + j for j in recu(degg - expvecm[i], [], 1, [], [], [], [])[1]]\n",
    "        \n",
    "print(systname)\n",
    "print(len(systname))"
   ]
  },
  {
   "cell_type": "code",
   "execution_count": 6,
   "metadata": {},
   "outputs": [],
   "source": [
    "# now to find relations between the invariants, we numerically create a matrix associated to the linear system built with the invariants themselves\n",
    "# and then look for its null space\n",
    "\n",
    "mat = []\n",
    "for _ in systname:\n",
    "    randinvlist = invlist(np.random.randint(100, size=(3, 3)), np.random.randint(100, size=(3, 3)))\n",
    "    randinvlistm = invlistm(np.random.randint(100, size=(3, 3)), np.random.randint(100, size=(3, 3)), np.random.randint(1000, size=(3, 3)))\n",
    "    syst=[]\n",
    "    for i, val in enumerate(randinvlistm):\n",
    "        if degg - expvecm[i] >= 0:\n",
    "            syst += [val * j for j in recu(degg - expvecm[i], [], 1, [], [], [], [])[0]]\n",
    "    mat.append(syst)"
   ]
  },
  {
   "cell_type": "code",
   "execution_count": 7,
   "metadata": {},
   "outputs": [],
   "source": [
    "ns = null_space(mat)\n",
    "M = sym.Matrix(mat)\n",
    "a = M.nullspace()"
   ]
  },
  {
   "cell_type": "code",
   "execution_count": 8,
   "metadata": {},
   "outputs": [
    {
     "name": "stdout",
     "output_type": "stream",
     "text": [
      "Number of invariants: 49\n",
      "Symbolic nullspace: (11, 37, 1)\n"
     ]
    }
   ],
   "source": [
    "print(f\"Number of invariants: {len(systname)}\")\n",
    "print(f\"Symbolic nullspace: {np.shape(a)}\")"
   ]
  },
  {
   "cell_type": "code",
   "execution_count": null,
   "metadata": {},
   "outputs": [],
   "source": []
  }
 ],
 "metadata": {
  "colab": {
   "authorship_tag": "ABX9TyOC2hwH070k+0bI//lW/s+F",
   "include_colab_link": true,
   "provenance": []
  },
  "kernelspec": {
   "display_name": "Python 3",
   "language": "python",
   "name": "python3"
  },
  "language_info": {
   "codemirror_mode": {
    "name": "ipython",
    "version": 3
   },
   "file_extension": ".py",
   "mimetype": "text/x-python",
   "name": "python",
   "nbconvert_exporter": "python",
   "pygments_lexer": "ipython3",
   "version": "3.9.5"
  }
 },
 "nbformat": 4,
 "nbformat_minor": 4
}
